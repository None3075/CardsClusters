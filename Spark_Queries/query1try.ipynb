{
 "cells": [
  {
   "cell_type": "code",
   "execution_count": 64,
   "id": "1448c467-681e-4441-960d-ccb2e6e29e45",
   "metadata": {},
   "outputs": [
    {
     "name": "stdout",
     "output_type": "stream",
     "text": [
      "2000\n"
     ]
    }
   ],
   "source": [
    "from pyspark.sql import SparkSession\n",
    "from pyspark.sql.functions import col\n",
    "\n",
    "#The five types of plays are classified by their riskiness.\n",
    "#It helps to identify the tactics of the AI\n",
    "\n",
    "spark = SparkSession.builder \\\n",
    "    .appName(\"TGVD_GenericQuery\") \\\n",
    "    .config(\"spark.driver.memory\", \"4g\") \\\n",
    "    .getOrCreate()\n",
    "\n",
    "spark.sparkContext.setLogLevel(\"WARN\")\n",
    "\n",
    "path_training = \"CardsParquetData/trained_blackjack.parquet\"\n",
    "path_match = \"CardsParquetData/played_blackjack.parquet\"\n",
    "\n",
    "df = spark.read.parquet(path_training)\n",
    "df_ = df.rdd.zipWithIndex().toDF([\"data\", \"index\"])\n",
    "\n",
    "print(df.count())"
   ]
  },
  {
   "cell_type": "code",
   "execution_count": 65,
   "id": "1784e9d4-142e-4d71-90ea-30dc7f151a37",
   "metadata": {},
   "outputs": [
    {
     "name": "stdout",
     "output_type": "stream",
     "text": [
      "+-----------------------------------------------------------------------------------------------+-----+\n",
      "|data                                                                                           |index|\n",
      "+-----------------------------------------------------------------------------------------------+-----+\n",
      "|{2025-05-12 19:24:20, [10, 4], [10, 7], [10, 11], [10, 21], [10, 21], NULL, NULL, NULL, NULL}  |0    |\n",
      "|{2025-05-12 19:24:20, [4, 7], [13, 12], [23, 21], NULL, NULL, NULL, NULL, NULL, NULL}          |1    |\n",
      "|{2025-05-12 19:24:20, [-1, 10], [14, 18], [14, 29], NULL, NULL, NULL, NULL, NULL, NULL}        |2    |\n",
      "|{2025-05-12 19:24:20, [8, 12], [20, 12], [22, 12], NULL, NULL, NULL, NULL, NULL, NULL}         |3    |\n",
      "|{2025-05-12 19:24:20, [3, 6], [3, 15], [3, 23], NULL, NULL, NULL, NULL, NULL, NULL}            |4    |\n",
      "|{2025-05-12 19:24:20, [7, 10], [16, 20], [26, 20], NULL, NULL, NULL, NULL, NULL, NULL}         |5    |\n",
      "|{2025-05-12 19:24:20, [7, 5], [13, 17], [13, 17], NULL, NULL, NULL, NULL, NULL, NULL}          |6    |\n",
      "|{2025-05-12 19:24:20, [4, 5], [14, 16], [23, 28], NULL, NULL, NULL, NULL, NULL, NULL}          |7    |\n",
      "|{2025-05-12 19:24:20, [10, 3], [10, 7], [10, 16], [10, 27], NULL, NULL, NULL, NULL, NULL}      |8    |\n",
      "|{2025-05-12 19:24:20, [3, 9], [3, 19], [3, 19], NULL, NULL, NULL, NULL, NULL, NULL}            |9    |\n",
      "|{2025-05-12 19:24:20, [5, 3], [5, 4], [5, 14], [5, 14], NULL, NULL, NULL, NULL, NULL}          |10   |\n",
      "|{2025-05-12 19:24:20, [6, 7], [14, 18], [14, 18], [14, 19], [14, 19], NULL, NULL, NULL, NULL}  |11   |\n",
      "|{2025-05-12 19:24:20, [1, 9], [1, 19], [1, 19], NULL, NULL, NULL, NULL, NULL, NULL}            |12   |\n",
      "|{2025-05-12 19:24:20, [3, 3], [3, 13], [3, 22], NULL, NULL, NULL, NULL, NULL, NULL}            |13   |\n",
      "|{2025-05-12 19:24:20, [8, 12], [8, 12], NULL, NULL, NULL, NULL, NULL, NULL, NULL}              |14   |\n",
      "|{2025-05-12 19:24:20, [3, 7], [17, 18], [19, 18], [19, 18], NULL, NULL, NULL, NULL, NULL}      |15   |\n",
      "|{2025-05-12 19:24:20, [1, 8], [1, 13], [1, 21], [1, 21], NULL, NULL, NULL, NULL, NULL}         |16   |\n",
      "|{2025-05-12 19:24:20, [10, 5], [11, 14], [11, 22], NULL, NULL, NULL, NULL, NULL, NULL}         |17   |\n",
      "|{2025-05-12 19:24:20, [12, 10], [12, 12], [12, 15], [12, 18], [12, 26], NULL, NULL, NULL, NULL}|18   |\n",
      "|{2025-05-12 19:24:20, [12, 9], [12, 14], [12, 22], NULL, NULL, NULL, NULL, NULL, NULL}         |19   |\n",
      "+-----------------------------------------------------------------------------------------------+-----+\n",
      "only showing top 20 rows\n",
      "\n",
      "None\n",
      "root\n",
      " |-- data: struct (nullable = true)\n",
      " |    |-- Timestamp: string (nullable = true)\n",
      " |    |-- Shown_cards: array (nullable = true)\n",
      " |    |    |-- element: long (containsNull = true)\n",
      " |    |-- Hand 0: array (nullable = true)\n",
      " |    |    |-- element: long (containsNull = true)\n",
      " |    |-- Hand 1: array (nullable = true)\n",
      " |    |    |-- element: long (containsNull = true)\n",
      " |    |-- Hand 2: array (nullable = true)\n",
      " |    |    |-- element: long (containsNull = true)\n",
      " |    |-- Hand 3: array (nullable = true)\n",
      " |    |    |-- element: long (containsNull = true)\n",
      " |    |-- Hand 4: array (nullable = true)\n",
      " |    |    |-- element: long (containsNull = true)\n",
      " |    |-- Hand 5: array (nullable = true)\n",
      " |    |    |-- element: long (containsNull = true)\n",
      " |    |-- Hand 6: array (nullable = true)\n",
      " |    |    |-- element: long (containsNull = true)\n",
      " |    |-- Hand 7: array (nullable = true)\n",
      " |    |    |-- element: long (containsNull = true)\n",
      "\n"
     ]
    }
   ],
   "source": [
    "#We can try to see how the AI agent evolves along iterations\n",
    "#For that we will divide the dataset in parts (as we did 100000 matches and\n",
    "#we only took a match for each 50 matches we will divide it into 5 parts)\n",
    "\n",
    "CHUNK_SIZE = 440\n",
    "print(df_.show(truncate =  False))\n",
    "df_.select(\"data\").printSchema()"
   ]
  },
  {
   "cell_type": "code",
   "execution_count": 66,
   "id": "58835c82-3896-4511-8c26-56a220d7fa5f",
   "metadata": {},
   "outputs": [
    {
     "name": "stdout",
     "output_type": "stream",
     "text": [
      "+-----+--------+--------+--------+--------+--------+------+------+------+------+\n",
      "|index| Hand_-1|  Hand_0|  Hand_1|  Hand_2|  Hand_3|Hand_4|Hand_5|Hand_6|Hand_7|\n",
      "+-----+--------+--------+--------+--------+--------+------+------+------+------+\n",
      "|    0| [10, 4]| [10, 7]|[10, 11]|[10, 21]|[10, 21]|  NULL|  NULL|  NULL|  NULL|\n",
      "|    1|  [4, 7]|[13, 12]|[23, 21]|    NULL|    NULL|  NULL|  NULL|  NULL|  NULL|\n",
      "|    2|[-1, 10]|[14, 18]|[14, 29]|    NULL|    NULL|  NULL|  NULL|  NULL|  NULL|\n",
      "|    3| [8, 12]|[20, 12]|[22, 12]|    NULL|    NULL|  NULL|  NULL|  NULL|  NULL|\n",
      "|    4|  [3, 6]| [3, 15]| [3, 23]|    NULL|    NULL|  NULL|  NULL|  NULL|  NULL|\n",
      "+-----+--------+--------+--------+--------+--------+------+------+------+------+\n",
      "only showing top 5 rows\n",
      "\n",
      "+-----+--------+--------+--------+--------+--------+------+------+------+------+------------+\n",
      "|index| Hand_-1|  Hand_0|  Hand_1|  Hand_2|  Hand_3|Hand_4|Hand_5|Hand_6|Hand_7|Chunk Number|\n",
      "+-----+--------+--------+--------+--------+--------+------+------+------+------+------------+\n",
      "|    0| [10, 4]| [10, 7]|[10, 11]|[10, 21]|[10, 21]|  NULL|  NULL|  NULL|  NULL|           0|\n",
      "|    1|  [4, 7]|[13, 12]|[23, 21]|    NULL|    NULL|  NULL|  NULL|  NULL|  NULL|           0|\n",
      "|    2|[-1, 10]|[14, 18]|[14, 29]|    NULL|    NULL|  NULL|  NULL|  NULL|  NULL|           0|\n",
      "|    3| [8, 12]|[20, 12]|[22, 12]|    NULL|    NULL|  NULL|  NULL|  NULL|  NULL|           0|\n",
      "|    4|  [3, 6]| [3, 15]| [3, 23]|    NULL|    NULL|  NULL|  NULL|  NULL|  NULL|           0|\n",
      "+-----+--------+--------+--------+--------+--------+------+------+------+------+------------+\n",
      "only showing top 5 rows\n",
      "\n"
     ]
    }
   ],
   "source": [
    "from pyspark.sql.functions import floor\n",
    "\n",
    "df_clean = df_.select(\n",
    "    col(\"index\"),\n",
    "    #col(\"data.Timestamp\").alias(\"Timestamp\"),\n",
    "    col(\"data.Shown_cards\").alias(\"Hand_-1\"),\n",
    "    col(\"data.`Hand 0`\").alias(\"Hand_0\"),\n",
    "    col(\"data.`Hand 1`\").alias(\"Hand_1\"),\n",
    "    col(\"data.`Hand 2`\").alias(\"Hand_2\"),\n",
    "    col(\"data.`Hand 3`\").alias(\"Hand_3\"),\n",
    "    col(\"data.`Hand 4`\").alias(\"Hand_4\"),\n",
    "    col(\"data.`Hand 5`\").alias(\"Hand_5\"),\n",
    "    col(\"data.`Hand 6`\").alias(\"Hand_6\"),\n",
    "    col(\"data.`Hand 7`\").alias(\"Hand_7\")\n",
    ")\n",
    "\n",
    "df_clean.show(5)\n",
    "\n",
    "df_chunks = df_clean.withColumn(\"Chunk Number\", floor(col(\"index\")/CHUNK_SIZE))\n",
    "\n",
    "df_chunks.show(5)"
   ]
  },
  {
   "cell_type": "code",
   "execution_count": 67,
   "id": "9598ad74-0b7a-4b20-a086-68ce6d899a26",
   "metadata": {},
   "outputs": [
    {
     "name": "stdout",
     "output_type": "stream",
     "text": [
      "+-----+--------+--------+--------+--------+--------+------+------+------+------+------------+-------+\n",
      "|index| Hand_-1|  Hand_0|  Hand_1|  Hand_2|  Hand_3|Hand_4|Hand_5|Hand_6|Hand_7|Chunk Number|n_moves|\n",
      "+-----+--------+--------+--------+--------+--------+------+------+------+------+------------+-------+\n",
      "|    0| [10, 4]| [10, 7]|[10, 11]|[10, 21]|[10, 21]|  NULL|  NULL|  NULL|  NULL|           0|      1|\n",
      "|    1|  [4, 7]|[13, 12]|[23, 21]|    NULL|    NULL|  NULL|  NULL|  NULL|  NULL|           0|      3|\n",
      "|    2|[-1, 10]|[14, 18]|[14, 29]|    NULL|    NULL|  NULL|  NULL|  NULL|  NULL|           0|      2|\n",
      "|    3| [8, 12]|[20, 12]|[22, 12]|    NULL|    NULL|  NULL|  NULL|  NULL|  NULL|           0|      3|\n",
      "|    4|  [3, 6]| [3, 15]| [3, 23]|    NULL|    NULL|  NULL|  NULL|  NULL|  NULL|           0|      1|\n",
      "+-----+--------+--------+--------+--------+--------+------+------+------+------+------------+-------+\n",
      "only showing top 5 rows\n",
      "\n"
     ]
    }
   ],
   "source": [
    "# Contar jugadas no nulas\n",
    "from pyspark.sql.functions import expr, when\n",
    "\n",
    "hand_cols = [\"Hand_0\", \"Hand_1\", \"Hand_2\", \"Hand_3\", \"Hand_4\", \"Hand_5\", \"Hand_6\", \"Hand_7\"]\n",
    "df_moves = df_chunks.withColumn(\"n_moves\",\n",
    "    1 + sum([\n",
    "        when((col(f\"Hand_{i-1}\")[0].isNotNull()) & (col(f\"Hand_{i-1}\")[0] != col(f\"Hand_{i-2}\")[0]), 1).otherwise(0)\n",
    "        for i in range(1, 8)\n",
    "    ])\n",
    ")\n",
    "\n",
    "df_moves.show(5)"
   ]
  },
  {
   "cell_type": "code",
   "execution_count": 68,
   "id": "605228a1-3c41-4a0f-8415-5552393f170e",
   "metadata": {},
   "outputs": [
    {
     "name": "stdout",
     "output_type": "stream",
     "text": [
      "+-----+--------+--------+--------+--------+--------+------+------+------+------+------------+-------+----------+\n",
      "|index| Hand_-1|  Hand_0|  Hand_1|  Hand_2|  Hand_3|Hand_4|Hand_5|Hand_6|Hand_7|Chunk Number|n_moves|Risk Level|\n",
      "+-----+--------+--------+--------+--------+--------+------+------+------+------+------------+-------+----------+\n",
      "|    0| [10, 4]| [10, 7]|[10, 11]|[10, 21]|[10, 21]|  NULL|  NULL|  NULL|  NULL|           0|      1|      Safe|\n",
      "|    1|  [4, 7]|[13, 12]|[23, 21]|    NULL|    NULL|  NULL|  NULL|  NULL|  NULL|           0|      3|Aggressive|\n",
      "|    2|[-1, 10]|[14, 18]|[14, 29]|    NULL|    NULL|  NULL|  NULL|  NULL|  NULL|           0|      2|  Tactical|\n",
      "|    3| [8, 12]|[20, 12]|[22, 12]|    NULL|    NULL|  NULL|  NULL|  NULL|  NULL|           0|      3|Aggressive|\n",
      "|    4|  [3, 6]| [3, 15]| [3, 23]|    NULL|    NULL|  NULL|  NULL|  NULL|  NULL|           0|      1|      Safe|\n",
      "+-----+--------+--------+--------+--------+--------+------+------+------+------+------------+-------+----------+\n",
      "only showing top 5 rows\n",
      "\n"
     ]
    }
   ],
   "source": [
    "df_risk = df_moves.withColumn(\n",
    "    \"Risk Level\",\n",
    "    when(col(\"n_moves\") <= 1, \"Safe\")\n",
    "    .when(col(\"n_moves\") == 2, \"Tactical\")\n",
    "    .when(col(\"n_moves\") == 3, \"Aggressive\")\n",
    "    .when(col(\"n_moves\") == 4, \"Risky\")\n",
    "    .otherwise(\"Are you crazy?\")\n",
    ")\n",
    "\n",
    "#hacerlo por quartiles con el numero de moves para ganar\n",
    "\n",
    "df_risk.show(5)"
   ]
  },
  {
   "cell_type": "code",
   "execution_count": 78,
   "id": "f117dedb-95bb-4583-84a5-2c62f6f14fc2",
   "metadata": {},
   "outputs": [
    {
     "name": "stdout",
     "output_type": "stream",
     "text": [
      "+------------+--------------+-----+\n",
      "|Chunk Number|    Risk Level|count|\n",
      "+------------+--------------+-----+\n",
      "|           0|Are you crazy?|    3|\n",
      "|           0|         Risky|   10|\n",
      "|           0|    Aggressive|   79|\n",
      "|           0|      Tactical|  170|\n",
      "|           0|          Safe|  178|\n",
      "|           1|Are you crazy?|    4|\n",
      "|           1|         Risky|   27|\n",
      "|           1|    Aggressive|  101|\n",
      "|           1|          Safe|  126|\n",
      "|           1|      Tactical|  182|\n",
      "|           2|Are you crazy?|    2|\n",
      "|           2|         Risky|   30|\n",
      "|           2|          Safe|   90|\n",
      "|           2|    Aggressive|  134|\n",
      "|           2|      Tactical|  184|\n",
      "|           3|Are you crazy?|    5|\n",
      "|           3|         Risky|   28|\n",
      "|           3|          Safe|   59|\n",
      "|           3|    Aggressive|  165|\n",
      "|           3|      Tactical|  183|\n",
      "|           4|Are you crazy?|    3|\n",
      "|           4|         Risky|    9|\n",
      "|           4|          Safe|   45|\n",
      "|           4|    Aggressive|   76|\n",
      "|           4|      Tactical|  107|\n",
      "+------------+--------------+-----+\n",
      "\n",
      "None\n",
      "+------------+--------------+-----+----------+\n",
      "|Chunk Number|    Risk Level|count|Proportion|\n",
      "+------------+--------------+-----+----------+\n",
      "|           0|Are you crazy?|    3|      0.68|\n",
      "|           0|         Risky|   10|      2.27|\n",
      "|           0|    Aggressive|   79|     17.95|\n",
      "|           0|      Tactical|  170|     38.64|\n",
      "|           0|          Safe|  178|     40.45|\n",
      "|           1|Are you crazy?|    4|      0.91|\n",
      "|           1|         Risky|   27|      6.14|\n",
      "|           1|    Aggressive|  101|     22.95|\n",
      "|           1|          Safe|  126|     28.64|\n",
      "|           1|      Tactical|  182|     41.36|\n",
      "|           2|Are you crazy?|    2|      0.45|\n",
      "|           2|         Risky|   30|      6.82|\n",
      "|           2|          Safe|   90|     20.45|\n",
      "|           2|    Aggressive|  134|     30.45|\n",
      "|           2|      Tactical|  184|     41.82|\n",
      "|           3|Are you crazy?|    5|      1.14|\n",
      "|           3|         Risky|   28|      6.36|\n",
      "|           3|          Safe|   59|     13.41|\n",
      "|           3|    Aggressive|  165|      37.5|\n",
      "|           3|      Tactical|  183|     41.59|\n",
      "|           4|Are you crazy?|    3|      0.68|\n",
      "|           4|         Risky|    9|      2.05|\n",
      "|           4|          Safe|   45|     10.23|\n",
      "|           4|    Aggressive|   76|     17.27|\n",
      "|           4|      Tactical|  107|     24.32|\n",
      "+------------+--------------+-----+----------+\n",
      "\n"
     ]
    }
   ],
   "source": [
    "#The types of strategies, (safe, tactical, risky…) and it’s proportion\n",
    "#It helps to identify which strategy is the common one.\n",
    "\n",
    "df_fin = df_risk.select(col(\"Chunk Number\"), col(\"n_moves\"), col(\"Risk Level\")).groupBy(\"Chunk Number\", \"Risk Level\").count().orderBy(\"Chunk Number\", \"count\")\n",
    "print(df_fin.show(30))\n",
    "\n",
    "df_query2 = df_fin.withColumn(\"Proportion\", round(col(\"count\")*100/CHUNK_SIZE, 2))\n",
    "df_query2.show(30)"
   ]
  }
 ],
 "metadata": {
  "kernelspec": {
   "display_name": "Python 3 (ipykernel)",
   "language": "python",
   "name": "python3"
  },
  "language_info": {
   "codemirror_mode": {
    "name": "ipython",
    "version": 3
   },
   "file_extension": ".py",
   "mimetype": "text/x-python",
   "name": "python",
   "nbconvert_exporter": "python",
   "pygments_lexer": "ipython3",
   "version": "3.12.3"
  }
 },
 "nbformat": 4,
 "nbformat_minor": 5
}
